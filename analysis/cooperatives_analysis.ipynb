{
 "cells": [
  {
   "cell_type": "markdown",
   "metadata": {},
   "source": [
    "# Cooperatives Analysis - Malanje Province\n",
    "\n",
    "This notebook provides analysis tools for cooperative data in Malanje Province, Angola.\n",
    "\n",
    "## Setup\n",
    "\n",
    "First, let's install the required packages:"
   ]
  },
  {
   "cell_type": "code",
   "execution_count": null,
   "metadata": {},
   "source": [
    "!pip install pandas geopandas matplotlib seaborn folium"
   ]
  },
  {
   "cell_type": "markdown",
   "metadata": {},
   "source": [
    "## Data Loading\n",
    "\n",
    "Now we'll load the cooperative data from the repository:"
   ]
  },
  {
   "cell_type": "code",
   "execution_count": null,
   "metadata": {},
   "source": [
    "import pandas as pd\n",
    "import geopandas as gpd\n",
    "import matplotlib.pyplot as plt\n",
    "import seaborn as sns\n",
    "import folium\n",
    "\n",
    "# Load GeoJSON data\n",
    "url = 'https://raw.githubusercontent.com/KAYA-Global/coops-malanje/main/data/cooperative_areas.geojson'\n",
    "try:\n",
    "    gdf = gpd.read_file(url)\n",
    "    print(f'Successfully loaded {len(gdf)} cooperatives')\n",
    "except Exception as e:\n",
    "    print(f'Error loading data: {e}')\n",
    "    print('Please check if you have access to the repository')"
   ]
  }
 ],
 "metadata": {
  "kernelspec": {
   "display_name": "Python 3",
   "language": "python",
   "name": "python3"
  },
  "language_info": {
   "codemirror_mode": {
    "name": "ipython",
    "version": 3
   },
   "file_extension": ".py",
   "mimetype": "text/x-python",
   "name": "python",
   "nbconvert_exporter": "python",
   "pygments_lexer": "ipython3",
   "version": "3.8.0"
  }
 },
 "nbformat": 4,
 "nbformat_minor": 4
}
     