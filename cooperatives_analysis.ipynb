{
  "nbformat": 4,
  "nbformat_minor": 0,
  "metadata": {
    "colab": {
      "provenance": [],
      "authorship_tag": "ABX9TyMVtvyTQ+tnoQ9MLr83tcUw",
      "include_colab_link": true
    },
    "kernelspec": {
      "name": "python3",
      "display_name": "Python 3"
    },
    "language_info": {
      "name": "python"
    }
  },
  "cells": [
    {
      "cell_type": "markdown",
      "metadata": {
        "id": "view-in-github",
        "colab_type": "text"
      },
      "source": [
        "<a href=\"https://colab.research.google.com/github/ulfboge/coops-malanje/blob/master/cooperatives_analysis.ipynb\" target=\"_parent\"><img src=\"https://colab.research.google.com/assets/colab-badge.svg\" alt=\"Open In Colab\"/></a>"
      ]
    },
    {
      "cell_type": "code",
      "execution_count": null,
      "metadata": {
        "id": "hisFc4I2fQDx"
      },
      "outputs": [],
      "source": [
        "{\n",
        " \"cells\": [\n",
        "  {\n",
        "   \"cell_type\": \"markdown\",\n",
        "   \"metadata\": {},\n",
        "   \"source\": [\n",
        "    \"# Cooperatives Analysis - Malanje Province\\n\",\n",
        "    \"\\n\",\n",
        "    \"This notebook provides analysis tools for cooperative data in Malanje Province, Angola.\\n\",\n",
        "    \"\\n\",\n",
        "    \"## Setup\\n\",\n",
        "    \"\\n\",\n",
        "    \"First, let's install the required packages:\"\n",
        "   ]\n",
        "  },\n",
        "  {\n",
        "   \"cell_type\": \"code\",\n",
        "   \"execution_count\": null,\n",
        "   \"metadata\": {},\n",
        "   \"source\": [\n",
        "    \"!pip install pandas geopandas matplotlib seaborn folium\"\n",
        "   ]\n",
        "  },\n",
        "  {\n",
        "   \"cell_type\": \"markdown\",\n",
        "   \"metadata\": {},\n",
        "   \"source\": [\n",
        "    \"## Data Loading\\n\",\n",
        "    \"\\n\",\n",
        "    \"Now we'll load the cooperative data from the repository:\"\n",
        "   ]\n",
        "  },\n",
        "  {\n",
        "   \"cell_type\": \"code\",\n",
        "   \"execution_count\": null,\n",
        "   \"metadata\": {},\n",
        "   \"source\": [\n",
        "    \"import pandas as pd\\n\",\n",
        "    \"import geopandas as gpd\\n\",\n",
        "    \"import matplotlib.pyplot as plt\\n\",\n",
        "    \"import seaborn as sns\\n\",\n",
        "    \"import folium\\n\",\n",
        "    \"\\n\",\n",
        "    \"# Load GeoJSON data\\n\",\n",
        "    \"url = 'https://raw.githubusercontent.com/KAYA-Global/coops-malanje/main/data/cooperative_areas.geojson'\\n\",\n",
        "    \"try:\\n\",\n",
        "    \"    gdf = gpd.read_file(url)\\n\",\n",
        "    \"    print(f'Successfully loaded {len(gdf)} cooperatives')\\n\",\n",
        "    \"except Exception as e:\\n\",\n",
        "    \"    print(f'Error loading data: {e}')\\n\",\n",
        "    \"    print('Please check if you have access to the repository')\"\n",
        "   ]\n",
        "  }\n",
        " ],\n",
        " \"metadata\": {\n",
        "  \"kernelspec\": {\n",
        "   \"display_name\": \"Python 3\",\n",
        "   \"language\": \"python\",\n",
        "   \"name\": \"python3\"\n",
        "  },\n",
        "  \"language_info\": {\n",
        "   \"codemirror_mode\": {\n",
        "    \"name\": \"ipython\",\n",
        "    \"version\": 3\n",
        "   },\n",
        "   \"file_extension\": \".py\",\n",
        "   \"mimetype\": \"text/x-python\",\n",
        "   \"name\": \"python\",\n",
        "   \"nbconvert_exporter\": \"python\",\n",
        "   \"pygments_lexer\": \"ipython3\",\n",
        "   \"version\": \"3.8.0\"\n",
        "  }\n",
        " },\n",
        " \"nbformat\": 4,\n",
        " \"nbformat_minor\": 4\n",
        "}"
      ]
    }
  ]
}